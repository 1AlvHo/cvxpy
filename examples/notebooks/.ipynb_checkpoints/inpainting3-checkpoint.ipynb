{
 "metadata": {
  "name": ""
 },
 "nbformat": 3,
 "nbformat_minor": 0,
 "worksheets": [
  {
   "cells": [
    {
     "cell_type": "code",
     "collapsed": false,
     "input": [
      "import matplotlib.pyplot as plt\n",
      "import numpy as np\n",
      "\n",
      "def formatImage(image):\n",
      "    image = image.copy()\n",
      "    image = image.astype(numpy.float32, copy=False)\n",
      "    image = image/np.max(image)\n",
      "    if image.ndim == 2:\n",
      "        image = image.reshape((image.shape[0], image.shape[1], 1))\n",
      "    \n",
      "    return image\n",
      "\n",
      "def showImage(image):\n",
      "    tmp = np.squeeze(image)\n",
      "    if tmp.ndim == 2:\n",
      "        plt.imshow(tmp,cmap=plt.cm.gray)\n",
      "    else:\n",
      "        plt.imshow(image)"
     ],
     "language": "python",
     "metadata": {},
     "outputs": [],
     "prompt_number": 11
    },
    {
     "cell_type": "code",
     "collapsed": false,
     "input": [
      "from PIL import Image, ImageDraw\n",
      "import itertools\n",
      "\n",
      "def drawRandLine(draw,width,m,n):\n",
      "    x = [np.random.randint(0,m) for i in range(2)]\n",
      "    y = [np.random.randint(0,n) for i in range(2)]\n",
      "    xy = zip(x,y)\n",
      "    #fill gives the color\n",
      "    draw.line(xy,fill=255,width=width)\n",
      "    \n",
      "\n",
      "def drawLines(image, num_lines, width):\n",
      "    ''' Return damaged image, along with list of damaged pixels\n",
      "        should work for greyscle (m,n,1) or rbg images (m,n,3).\n",
      "        also returns dictionary mapping pixel location to variable index\n",
      "    '''\n",
      "    imshape = (image.shape[0], image.shape[1])\n",
      "    dmg = Image.new(\"L\",imshape)\n",
      "    draw = ImageDraw.Draw(dmg)\n",
      "    for i in range(num_lines):\n",
      "        drawRandLine(draw,width,imshape[0], imshape[1])\n",
      "    del draw\n",
      "\n",
      "    idx2pixel = np.array(np.nonzero(np.array(dmg).T)).T\n",
      "    dmg_image = image.copy()\n",
      "    dmg_image[idx2pixel[:,0],idx2pixel[:,1],:] = 1.0\n",
      "    pixel2idx = dict(itertools.izip(itertools.imap(tuple, idx2pixel), xrange(len(idx2pixel))))\n",
      "    \n",
      "    return dmg_image, idx2pixel, pixel2idx\n",
      "\n",
      "\n",
      "def drawText(image, fontsize, length):\n",
      "    from PIL import Image, ImageDraw, ImageFont\n",
      "    import textwrap, itertools\n",
      "    \n",
      "    imshape = (image.shape[0], image.shape[1])\n",
      "    dmg = Image.new(\"L\",imshape)\n",
      "    draw = ImageDraw.Draw(dmg)\n",
      "\n",
      "    #fontsize = 80\n",
      "    font = ImageFont.truetype(\"/Library/Fonts/Georgia.ttf\", fontsize)\n",
      "    text = \"Lorem ipsum dolor sit amet, consectetuer adipiscing elit, sed diam nonummy nibh euismod tincidunt ut laoreet dolore magna aliquam erat volutpat. Ut wisi enim ad minim veniam, quis nostrud exerci tation ullamcorper suscipit lobortis nisl ut aliquip ex ea commodo consequat. Duis autem vel eum iriure dolor in hendrerit in vulputate velit esse molestie consequat, vel illum dolore eu feugiat nulla facilisis at vero eros et accumsan et iusto odio dignissim qui blandit praesent luptatum zzril delenit augue duis dolore te feugait nulla facilisi. Nam liber tempor cum soluta nobis eleifend option congue nihil imperdiet doming id quod mazim placerat facer possim assum. Typi non habent claritatem insitam; est usus legentis in iis qui facit eorum claritatem. Investigationes demonstraverunt lectores legere me lius quod ii legunt saepius. Claritas est etiam processus dynamicus, qui sequitur mutationem consuetudium lectorum. Mirum est notare quam littera gothica, quam nunc putamus parum claram, anteposuerit litterarum formas humanitatis per seacula quarta decima et quinta decima. Eodem modo typi, qui nunc nobis videntur parum clari, fiant sollemnes in futurum.\"\n",
      "    text = text[0:length]\n",
      "    lines = textwrap.wrap(text, width = 40)\n",
      "    w, h = dmg.size\n",
      "    y_text = 200\n",
      "    for line in lines:\n",
      "        width, height = font.getsize(line)\n",
      "        draw.text((0, y_text), line, font = font, fill = 255)\n",
      "        y_text += height\n",
      "        \n",
      "        \n",
      "    idx2pixel = np.array(np.nonzero(np.array(dmg).T)).T\n",
      "    dmg_image = image.copy()\n",
      "    dmg_image[idx2pixel[:,0],idx2pixel[:,1],:] = 1.0\n",
      "    pixel2idx = dict(itertools.izip(itertools.imap(tuple, idx2pixel), xrange(len(idx2pixel))))\n",
      "    \n",
      "    return dmg_image, idx2pixel, pixel2idx"
     ],
     "language": "python",
     "metadata": {},
     "outputs": [],
     "prompt_number": 12
    },
    {
     "cell_type": "code",
     "collapsed": false,
     "input": [
      "import scipy.sparse as sp\n",
      "from cvxopt import spmatrix\n",
      "\n",
      "def involvedpairs(pairs):\n",
      "    ''' Get all the pixel pairs whose gradient involves an unknown pixel.\n",
      "        Input should be a set or dictionary of pixel pair tuples\n",
      "    '''\n",
      "    for pair in pairs: #loop through unknown pixels\n",
      "        yield pair \n",
      "        \n",
      "        left = (pair[0],pair[1]-1)\n",
      "        if left[1] >= 0 and left not in pairs: #if 'left' in picture, and not already unknown\n",
      "            yield left\n",
      "        \n",
      "        top = (pair[0]-1,pair[1])\n",
      "        topright = (pair[0]-1,pair[1]+1)\n",
      "        #if not on top boundary, top is fixed, and top not already touched by upper right pixel\n",
      "        if pair[0] > 0 and top not in pairs and topright not in pairs:\n",
      "            yield top\n",
      "\n",
      "def formCOO(pair2idx, img):\n",
      "    m, n, dim = img.shape  \n",
      "    Is, Js, Vs, bs = [[],[]], [[],[]], [[],[]], [[],[]]\n",
      "    row = 0\n",
      "    \n",
      "    for pixel1 in involvedpairs(pair2idx):\n",
      "        bottom = (pixel1[0]+1,pixel1[1])\n",
      "        right= (pixel1[0],pixel1[1]+1)\n",
      "        \n",
      "        for i, pixel2 in enumerate([bottom, right]):   \n",
      "            \n",
      "            if pixel2[0] >= m or pixel2[1] >= n:\n",
      "                bs[i].append(np.zeros(dim))\n",
      "                continue\n",
      "            \n",
      "            b = np.zeros(dim)\n",
      "            for j, pix in enumerate([pixel2, pixel1]):\n",
      "                if pix in pair2idx: #unknown pixel\n",
      "                    Is[i].append(row)\n",
      "                    Js[i].append(pair2idx[pix])\n",
      "                    Vs[i].append(pow(-1,j))\n",
      "                else: #known pixel\n",
      "                    b += pow(-1,j)*img[pix[0],pix[1],:]\n",
      "            bs[i].append(b)\n",
      "            \n",
      "        row += 1\n",
      "    \n",
      "    '''\n",
      "        Form Gx and Gy such that the x-component of the gradient is Gx*x + bx,\n",
      "        where x is an array representing the unknown pixel values.\n",
      "    '''\n",
      "    m = len(bs[0])\n",
      "    n = len(pair2idx)\n",
      "    \n",
      "    #Gx = sp.coo_matrix((Vs[1],(Is[1],Js[1])),shape=(m,n),dtype=np.double)\n",
      "    #Gy = sp.coo_matrix((Vs[0],(Is[0],Js[0])),shape=(m,n),dtype=np.double)\n",
      "    Gx = spmatrix(Vs[1], Is[1], Js[1],(m,n))\n",
      "    Gy = spmatrix(Vs[0], Is[0], Js[0],(m,n))\n",
      "\n",
      "    bx = np.array(bs[1])\n",
      "    by = np.array(bs[0])\n",
      "    \n",
      "    return Gx, Gy, bx, by"
     ],
     "language": "python",
     "metadata": {},
     "outputs": [],
     "prompt_number": 13
    },
    {
     "cell_type": "code",
     "collapsed": false,
     "input": [
      "import cvxpy as cp\n",
      "\n",
      "def repairImage(dmg_image, idx2pixel, pixel2idx):\n",
      "    Gx, Gy, bx, by = formCOO(pixel2idx, dmg_image)\n",
      "    #m, n = Gx.shape\n",
      "    m, n = Gx.size\n",
      "    \n",
      "    print \"Gx has size %d by %d\"%(m,n)\n",
      "    x = cp.Variable(n,bx.shape[1])\n",
      "    #z = cp.Variable(m,2*bx.shape[1])\n",
      "    \n",
      "    z = cp.hstack(x.__rmul__(Gx) + bx, x.__rmul__(Gy) + by)\n",
      "    #constraints = [z[:,0:bx.shape[1]] == Gx*x + bx,\n",
      "    #z[:,bx.shape[1]:2*bx.shape[1]] ==  Gy*x + by]\n",
      "    \n",
      "    objective = cp.Minimize(sum([cp.norm(z[i,:]) for i in range(m)]))\n",
      "    p = cp.Problem(objective)\n",
      "    \n",
      "    result = p.solve(solver=cp.ECOS, verbose=True)\n",
      "    x = np.array(x.value)\n",
      "    \n",
      "    fix_image = dmg_image.copy()\n",
      "    fix_image[idx2pixel[:,0],idx2pixel[:,1],:] = x\n",
      "    \n",
      "    return fix_image"
     ],
     "language": "python",
     "metadata": {},
     "outputs": [],
     "prompt_number": 14
    },
    {
     "cell_type": "markdown",
     "metadata": {},
     "source": [
      "# Examples\n",
      "## Load an image"
     ]
    },
    {
     "cell_type": "code",
     "collapsed": false,
     "input": [
      "import matplotlib.cbook as cbook\n",
      "import numpy\n",
      "image_file = cbook.get_sample_data('lena.png')\n",
      "# images available\n",
      "#logo2.png\n",
      "#grace_hopper.png\n",
      "#lena.png\n",
      "#Minduka_Present_Blue_Pack.png\n",
      "image = plt.imread(image_file)\n",
      "image = formatImage(image)\n",
      "showImage(image)"
     ],
     "language": "python",
     "metadata": {},
     "outputs": [],
     "prompt_number": 15
    },
    {
     "cell_type": "code",
     "collapsed": false,
     "input": [
      "from scipy import misc\n",
      "image = misc.lena()\n",
      "image = formatImage(image)\n",
      "showImage(image)"
     ],
     "language": "python",
     "metadata": {},
     "outputs": [],
     "prompt_number": 16
    },
    {
     "cell_type": "markdown",
     "metadata": {},
     "source": [
      "## make some 'damage' of lines or text"
     ]
    },
    {
     "cell_type": "code",
     "collapsed": false,
     "input": [
      "dmg_image, idx2pixel, pixel2idx = drawLines(image,3,5)\n",
      "showImage(dmg_image)"
     ],
     "language": "python",
     "metadata": {},
     "outputs": [],
     "prompt_number": 17
    },
    {
     "cell_type": "code",
     "collapsed": false,
     "input": [
      "dmg_image, idx2pixel, pixel2idx = drawText(image, 40, 100)\n",
      "showImage(dmg_image)"
     ],
     "language": "python",
     "metadata": {},
     "outputs": [],
     "prompt_number": 18
    },
    {
     "cell_type": "markdown",
     "metadata": {},
     "source": [
      "## repair the image"
     ]
    },
    {
     "cell_type": "code",
     "collapsed": false,
     "input": [
      "%%time\n",
      "fix_image = repairImage(dmg_image, idx2pixel, pixel2idx)\n",
      "showImage(fix_image)"
     ],
     "language": "python",
     "metadata": {},
     "outputs": [
      {
       "output_type": "stream",
       "stream": "stdout",
       "text": [
        "Gx has size 16169 by 12458\n",
        "\n",
        "ECOS 1.0.3 - (c) A. Domahidi, Automatic Control Laboratory, ETH Zurich, 2012-2014.\n",
        "\n"
       ]
      },
      {
       "output_type": "stream",
       "stream": "stdout",
       "text": [
        "It     pcost         dcost      gap     pres    dres     k/t     mu      step     IR\n",
        " 0   +0.000e+00   -2.760e+04   +1e+05   2e+00   9e-01   1e+00   2e+00    N/A     1 1 -\n",
        " 1   +2.227e+02   -3.857e+03   +3e+04   3e-01   1e-01   7e-01   6e-01   0.8339   1 1 1\n"
       ]
      },
      {
       "output_type": "stream",
       "stream": "stdout",
       "text": [
        " 2   +9.787e+00   -5.362e+02   +5e+03   3e-02   2e-02   7e-02   1e-01   0.9345   1 1 1\n",
        " 3   +1.585e+01   -3.291e+01   +5e+02   3e-03   2e-03   6e-03   1e-02   0.9072   1 1 1\n"
       ]
      },
      {
       "output_type": "stream",
       "stream": "stdout",
       "text": [
        " 4   +2.252e+01   +6.567e+00   +2e+02   1e-03   5e-04   1e-03   3e-03   0.7888   1 1 1\n",
        " 5   +2.025e+01   +1.464e+01   +6e+01   4e-04   2e-04   4e-04   1e-03   0.7953   2 1 1\n"
       ]
      },
      {
       "output_type": "stream",
       "stream": "stdout",
       "text": [
        " 6   +2.123e+01   +1.951e+01   +2e+01   1e-04   6e-05   8e-05   4e-04   0.8987   2 1 1\n",
        " 7   +2.125e+01   +2.099e+01   +3e+00   2e-05   9e-06   1e-05   5e-05   0.8802   2 1 1\n"
       ]
      },
      {
       "output_type": "stream",
       "stream": "stdout",
       "text": [
        " 8   +2.126e+01   +2.124e+01   +2e-01   1e-06   7e-07   9e-07   5e-06   0.9424   2 1 1\n",
        " 9   +2.126e+01   +2.126e+01   +4e-02   2e-07   1e-07   1e-07   7e-07   0.8650   2 1 1\n"
       ]
      },
      {
       "output_type": "stream",
       "stream": "stdout",
       "text": [
        "10   +2.126e+01   +2.126e+01   +1e-02   8e-08   4e-08   4e-08   3e-07   0.7738   2 1 1\n",
        "11   +2.126e+01   +2.126e+01   +4e-03   2e-08   1e-08   1e-08   8e-08   0.8811   2 2 1\n"
       ]
      },
      {
       "output_type": "stream",
       "stream": "stdout",
       "text": [
        "12   +2.126e+01   +2.126e+01   +5e-04   3e-09   2e-09   2e-09   1e-08   0.9899   3 3 3\n",
        "13   +2.126e+01   +2.126e+01   +5e-05   3e-10   2e-10   2e-10   1e-09   0.9168   3 3 3\n"
       ]
      },
      {
       "output_type": "stream",
       "stream": "stdout",
       "text": [
        "14   +2.126e+01   +2.126e+01   +4e-06   5e-06   1e-11   1e-11   9e-11   0.9622   0 1 1\n",
        "\b\b\b\b\b\b\b\b\b\b\b\b\b\b\b\b\b\b\b\b\b\b\b\b\b\b\b\b\b\b\b\b\b\b\b\b\b\b\b\b\b\b\b\b\b\b\b\b\b\b\b\b\b\b\b\b\b\b\b\b\b\b\b\b\b\b\b\b\b\b\b\b\b\b\b\b\b\b\b\b\b\bUnreliable search direction detected, recovering best iterate (13) and stopping.\n",
        "\n",
        "Close to OPTIMAL (within feastol=3.3e-10, reltol=2.4e-06, abstol=5.1e-05).\n",
        "Runtime: 1.630487 seconds.\n",
        "\n",
        "CPU times: user 1min 27s, sys: 500 ms, total: 1min 28s"
       ]
      },
      {
       "output_type": "stream",
       "stream": "stdout",
       "text": [
        "\n",
        "Wall time: 1min 28s\n"
       ]
      }
     ],
     "prompt_number": 19
    },
    {
     "cell_type": "markdown",
     "metadata": {},
     "source": [
      "# Debugging"
     ]
    },
    {
     "cell_type": "code",
     "collapsed": false,
     "input": [
      "%%time\n",
      "Gx, Gy, bx, by = formCOO(pixel2idx, dmg_image)"
     ],
     "language": "python",
     "metadata": {},
     "outputs": [
      {
       "output_type": "stream",
       "stream": "stdout",
       "text": [
        "CPU times: user 355 ms, sys: 2.34 ms, total: 357 ms\n",
        "Wall time: 356 ms\n"
       ]
      }
     ],
     "prompt_number": 20
    },
    {
     "cell_type": "code",
     "collapsed": false,
     "input": [
      "%%time\n",
      "#m, n = Gx.shape\n",
      "m, n = Gx.size\n",
      "    \n",
      "print \"Gx has size %d by %d\"%(m,n)\n",
      "x = cp.Variable(n,bx.shape[1])\n",
      "#z = cp.Variable(m,2*bx.shape[1])\n",
      "tmp = Gx*x\n",
      "    \n",
      "#z = cp.hstack(x.__rmul__(Gx) + bx, x.__rmul__(Gy) + by)\n",
      "#constraints = [z[:,0:bx.shape[1]] == Gx*x + bx,\n",
      "#z[:,bx.shape[1]:2*bx.shape[1]] ==  Gy*x + by]\n",
      "    \n",
      "#"
     ],
     "language": "python",
     "metadata": {},
     "outputs": [
      {
       "output_type": "stream",
       "stream": "stdout",
       "text": [
        "Gx has size 16169 by 12458\n",
        "CPU times: user 5.39 ms, sys: 62 \u00b5s, total: 5.45 ms\n",
        "Wall time: 5.43 ms\n"
       ]
      }
     ],
     "prompt_number": 21
    },
    {
     "cell_type": "code",
     "collapsed": false,
     "input": [
      "tmp.args[0]"
     ],
     "language": "python",
     "metadata": {},
     "outputs": [
      {
       "metadata": {},
       "output_type": "pyout",
       "prompt_number": 22,
       "text": [
        "  (3535, 0)\t-1.0\n",
        "  (3536, 0)\t1.0\n",
        "  (2961, 1)\t-1.0\n",
        "  (3535, 1)\t1.0\n",
        "  (2961, 2)\t1.0\n",
        "  (7012, 2)\t-1.0\n",
        "  (6434, 3)\t-1.0\n",
        "  (7012, 3)\t1.0\n",
        "  (5854, 4)\t-1.0\n",
        "  (6434, 4)\t1.0\n",
        "  (5261, 5)\t-1.0\n",
        "  (5854, 5)\t1.0\n",
        "  (107, 6)\t-1.0\n",
        "  (5261, 6)\t1.0\n",
        "  (13134, 7)\t-1.0\n",
        "  (13135, 7)\t1.0\n",
        "  (12556, 8)\t-1.0\n",
        "  (13134, 8)\t1.0\n",
        "  (11970, 9)\t-1.0\n",
        "  (12556, 9)\t1.0\n",
        "  (11970, 10)\t1.0\n",
        "  (16109, 10)\t-1.0\n",
        "  (15508, 11)\t-1.0\n",
        "  (16109, 11)\t1.0\n",
        "  (14941, 12)\t-1.0\n",
        "  :\t:\n",
        "  (13892, 12445)\t1.0\n",
        "  (10329, 12446)\t-1.0\n",
        "  (13302, 12446)\t1.0\n",
        "  (9740, 12447)\t-1.0\n",
        "  (10329, 12447)\t1.0\n",
        "  (9740, 12448)\t1.0\n",
        "  (11522, 12448)\t-1.0\n",
        "  (10947, 12449)\t-1.0\n",
        "  (11522, 12449)\t1.0\n",
        "  (10947, 12450)\t1.0\n",
        "  (14934, 12450)\t-1.0\n",
        "  (14329, 12451)\t-1.0\n",
        "  (14934, 12451)\t1.0\n",
        "  (14329, 12452)\t1.0\n",
        "  (16096, 12452)\t-1.0\n",
        "  (10945, 12453)\t-1.0\n",
        "  (16096, 12453)\t1.0\n",
        "  (1760, 12454)\t-1.0\n",
        "  (10945, 12454)\t1.0\n",
        "  (1760, 12455)\t1.0\n",
        "  (11965, 12455)\t-1.0\n",
        "  (11965, 12456)\t1.0\n",
        "  (13735, 12456)\t-1.0\n",
        "  (13124, 12457)\t-1.0\n",
        "  (13735, 12457)\t1.0"
       ]
      }
     ],
     "prompt_number": 22
    },
    {
     "cell_type": "code",
     "collapsed": false,
     "input": [
      "%%time\n",
      "#(Gx*x)._dcp_attr\n",
      "\n",
      "objective = cp.Minimize(sum([cp.norm(z[i,:]) for i in range(m)]))\n",
      "p = cp.Problem(objective,constraints)\n",
      "result = p.solve(solver=cp.ECOS, verbose=True)\n",
      "x = np.array(x.value)\n",
      "    \n",
      "fix_image = dmg_image.copy()\n",
      "fix_image[idx2pixel[:,0],idx2pixel[:,1],:] = x"
     ],
     "language": "python",
     "metadata": {},
     "outputs": [
      {
       "ename": "NameError",
       "evalue": "name 'z' is not defined",
       "output_type": "pyerr",
       "traceback": [
        "\u001b[0;31m---------------------------------------------------------------------------\u001b[0m\n\u001b[0;31mNameError\u001b[0m                                 Traceback (most recent call last)",
        "\u001b[0;32m<ipython-input-23-620041a19c66>\u001b[0m in \u001b[0;36m<module>\u001b[0;34m()\u001b[0m\n\u001b[0;32m----> 1\u001b[0;31m \u001b[0mget_ipython\u001b[0m\u001b[0;34m(\u001b[0m\u001b[0;34m)\u001b[0m\u001b[0;34m.\u001b[0m\u001b[0mrun_cell_magic\u001b[0m\u001b[0;34m(\u001b[0m\u001b[0;34mu'time'\u001b[0m\u001b[0;34m,\u001b[0m \u001b[0;34mu''\u001b[0m\u001b[0;34m,\u001b[0m \u001b[0;34mu'#(Gx*x)._dcp_attr\\n\\nobjective = cp.Minimize(sum([cp.norm(z[i,:]) for i in range(m)]))\\np = cp.Problem(objective,constraints)\\nresult = p.solve(solver=cp.ECOS, verbose=True)\\nx = np.array(x.value)\\n    \\nfix_image = dmg_image.copy()\\nfix_image[idx2pixel[:,0],idx2pixel[:,1],:] = x'\u001b[0m\u001b[0;34m)\u001b[0m\u001b[0;34m\u001b[0m\u001b[0m\n\u001b[0m",
        "\u001b[0;32m/Users/stevend2/anaconda/envs/cvxpy/lib/python2.7/site-packages/IPython/core/interactiveshell.pyc\u001b[0m in \u001b[0;36mrun_cell_magic\u001b[0;34m(self, magic_name, line, cell)\u001b[0m\n\u001b[1;32m   2120\u001b[0m             \u001b[0mmagic_arg_s\u001b[0m \u001b[0;34m=\u001b[0m \u001b[0mself\u001b[0m\u001b[0;34m.\u001b[0m\u001b[0mvar_expand\u001b[0m\u001b[0;34m(\u001b[0m\u001b[0mline\u001b[0m\u001b[0;34m,\u001b[0m \u001b[0mstack_depth\u001b[0m\u001b[0;34m)\u001b[0m\u001b[0;34m\u001b[0m\u001b[0m\n\u001b[1;32m   2121\u001b[0m             \u001b[0;32mwith\u001b[0m \u001b[0mself\u001b[0m\u001b[0;34m.\u001b[0m\u001b[0mbuiltin_trap\u001b[0m\u001b[0;34m:\u001b[0m\u001b[0;34m\u001b[0m\u001b[0m\n\u001b[0;32m-> 2122\u001b[0;31m                 \u001b[0mresult\u001b[0m \u001b[0;34m=\u001b[0m \u001b[0mfn\u001b[0m\u001b[0;34m(\u001b[0m\u001b[0mmagic_arg_s\u001b[0m\u001b[0;34m,\u001b[0m \u001b[0mcell\u001b[0m\u001b[0;34m)\u001b[0m\u001b[0;34m\u001b[0m\u001b[0m\n\u001b[0m\u001b[1;32m   2123\u001b[0m             \u001b[0;32mreturn\u001b[0m \u001b[0mresult\u001b[0m\u001b[0;34m\u001b[0m\u001b[0m\n\u001b[1;32m   2124\u001b[0m \u001b[0;34m\u001b[0m\u001b[0m\n",
        "\u001b[0;32m/Users/stevend2/anaconda/envs/cvxpy/lib/python2.7/site-packages/IPython/core/magics/execution.pyc\u001b[0m in \u001b[0;36mtime\u001b[0;34m(self, line, cell, local_ns)\u001b[0m\n",
        "\u001b[0;32m/Users/stevend2/anaconda/envs/cvxpy/lib/python2.7/site-packages/IPython/core/magic.pyc\u001b[0m in \u001b[0;36m<lambda>\u001b[0;34m(f, *a, **k)\u001b[0m\n\u001b[1;32m    189\u001b[0m     \u001b[0;31m# but it's overkill for just that one bit of state.\u001b[0m\u001b[0;34m\u001b[0m\u001b[0;34m\u001b[0m\u001b[0m\n\u001b[1;32m    190\u001b[0m     \u001b[0;32mdef\u001b[0m \u001b[0mmagic_deco\u001b[0m\u001b[0;34m(\u001b[0m\u001b[0marg\u001b[0m\u001b[0;34m)\u001b[0m\u001b[0;34m:\u001b[0m\u001b[0;34m\u001b[0m\u001b[0m\n\u001b[0;32m--> 191\u001b[0;31m         \u001b[0mcall\u001b[0m \u001b[0;34m=\u001b[0m \u001b[0;32mlambda\u001b[0m \u001b[0mf\u001b[0m\u001b[0;34m,\u001b[0m \u001b[0;34m*\u001b[0m\u001b[0ma\u001b[0m\u001b[0;34m,\u001b[0m \u001b[0;34m**\u001b[0m\u001b[0mk\u001b[0m\u001b[0;34m:\u001b[0m \u001b[0mf\u001b[0m\u001b[0;34m(\u001b[0m\u001b[0;34m*\u001b[0m\u001b[0ma\u001b[0m\u001b[0;34m,\u001b[0m \u001b[0;34m**\u001b[0m\u001b[0mk\u001b[0m\u001b[0;34m)\u001b[0m\u001b[0;34m\u001b[0m\u001b[0m\n\u001b[0m\u001b[1;32m    192\u001b[0m \u001b[0;34m\u001b[0m\u001b[0m\n\u001b[1;32m    193\u001b[0m         \u001b[0;32mif\u001b[0m \u001b[0mcallable\u001b[0m\u001b[0;34m(\u001b[0m\u001b[0marg\u001b[0m\u001b[0;34m)\u001b[0m\u001b[0;34m:\u001b[0m\u001b[0;34m\u001b[0m\u001b[0m\n",
        "\u001b[0;32m/Users/stevend2/anaconda/envs/cvxpy/lib/python2.7/site-packages/IPython/core/magics/execution.pyc\u001b[0m in \u001b[0;36mtime\u001b[0;34m(self, line, cell, local_ns)\u001b[0m\n\u001b[1;32m   1043\u001b[0m         \u001b[0;32melse\u001b[0m\u001b[0;34m:\u001b[0m\u001b[0;34m\u001b[0m\u001b[0m\n\u001b[1;32m   1044\u001b[0m             \u001b[0mst\u001b[0m \u001b[0;34m=\u001b[0m \u001b[0mclock2\u001b[0m\u001b[0;34m(\u001b[0m\u001b[0;34m)\u001b[0m\u001b[0;34m\u001b[0m\u001b[0m\n\u001b[0;32m-> 1045\u001b[0;31m             \u001b[0;32mexec\u001b[0m \u001b[0mcode\u001b[0m \u001b[0;32min\u001b[0m \u001b[0mglob\u001b[0m\u001b[0;34m,\u001b[0m \u001b[0mlocal_ns\u001b[0m\u001b[0;34m\u001b[0m\u001b[0m\n\u001b[0m\u001b[1;32m   1046\u001b[0m             \u001b[0mend\u001b[0m \u001b[0;34m=\u001b[0m \u001b[0mclock2\u001b[0m\u001b[0;34m(\u001b[0m\u001b[0;34m)\u001b[0m\u001b[0;34m\u001b[0m\u001b[0m\n\u001b[1;32m   1047\u001b[0m             \u001b[0mout\u001b[0m \u001b[0;34m=\u001b[0m \u001b[0mNone\u001b[0m\u001b[0;34m\u001b[0m\u001b[0m\n",
        "\u001b[0;32m<timed exec>\u001b[0m in \u001b[0;36m<module>\u001b[0;34m()\u001b[0m\n",
        "\u001b[0;31mNameError\u001b[0m: name 'z' is not defined"
       ]
      }
     ],
     "prompt_number": 23
    },
    {
     "cell_type": "code",
     "collapsed": false,
     "input": [
      "showImage(fix_image)"
     ],
     "language": "python",
     "metadata": {},
     "outputs": []
    },
    {
     "cell_type": "code",
     "collapsed": false,
     "input": [
      "del x\n",
      "del z\n",
      "del objective\n",
      "del constraints\n",
      "del p"
     ],
     "language": "python",
     "metadata": {},
     "outputs": []
    },
    {
     "cell_type": "code",
     "collapsed": false,
     "input": [
      "Gx"
     ],
     "language": "python",
     "metadata": {},
     "outputs": []
    },
    {
     "cell_type": "code",
     "collapsed": false,
     "input": [
      "from cvxopt import spmatrix\n",
      "import cvxpy as cp\n",
      "\n",
      "n = 100000\n",
      "\n",
      "I = range(n)\n",
      "J = range(n);\n",
      "V = [1]*n\n",
      "\n",
      "A = spmatrix(V, I, J,(n,n))\n",
      "x = cp.Variable(n)\n",
      "\n",
      "tmp = A*x\n"
     ],
     "language": "python",
     "metadata": {},
     "outputs": []
    },
    {
     "cell_type": "code",
     "collapsed": false,
     "input": [],
     "language": "python",
     "metadata": {},
     "outputs": []
    },
    {
     "cell_type": "code",
     "collapsed": false,
     "input": [],
     "language": "python",
     "metadata": {},
     "outputs": []
    }
   ],
   "metadata": {}
  }
 ]
}