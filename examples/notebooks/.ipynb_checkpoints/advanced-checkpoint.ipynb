{
 "metadata": {
  "name": ""
 },
 "nbformat": 3,
 "nbformat_minor": 0,
 "worksheets": [
  {
   "cells": [
    {
     "cell_type": "code",
     "collapsed": false,
     "input": [
      "from cvxpy import *\n",
      "\n",
      "# Create two scalar optimization variables.\n",
      "x = Variable()\n",
      "y = Variable()\n",
      "\n",
      "# Create two constraints.\n",
      "constraints = [x + y == 1,\n",
      "               x - y >= 1]\n",
      "\n",
      "# Form objective.\n",
      "obj = Minimize(square(x - y))\n",
      "\n",
      "# Form and solve problem.\n",
      "prob = Problem(obj, constraints)\n",
      "prob.solve()\n",
      "\n",
      "# The optimal dual variable (Lagrange multiplier) for\n",
      "# a constraint is stored in constraint.dual_value.\n",
      "print \"optimal (x + y == 1) dual variable\", constraints[0].dual_value\n",
      "print \"optimal (x - y >= 1) dual variable\", constraints[1].dual_value\n",
      "print \"x - y value:\", (x - y).value"
     ],
     "language": "python",
     "metadata": {},
     "outputs": [
      {
       "output_type": "stream",
       "stream": "stdout",
       "text": [
        "optimal (x + y == 1) dual variable 6.47610300459e-18\n",
        "optimal (x - y >= 1) dual variable 2.00025244976\n",
        "x - y value: 0.999999986374\n"
       ]
      }
     ],
     "prompt_number": 3
    },
    {
     "cell_type": "code",
     "collapsed": false,
     "input": [
      "# Solving a problem with different solvers.\n",
      "x = Variable(2)\n",
      "obj = Minimize(norm(x, 2) + norm(x, 1))\n",
      "constraints = [x >= 2]\n",
      "prob = Problem(obj, constraints)\n",
      "\n",
      "# Solve with ECOS.\n",
      "prob.solve(solver=ECOS)\n",
      "print \"optimal value:\", prob.value\n",
      "\n",
      "# Solve with CVXOPT.\n",
      "prob.solve(solver=CVXOPT)\n",
      "\n",
      "# Solve with SCS.\n",
      "prob.solve(solver=SCS)"
     ],
     "language": "python",
     "metadata": {},
     "outputs": []
    }
   ],
   "metadata": {}
  }
 ]
}