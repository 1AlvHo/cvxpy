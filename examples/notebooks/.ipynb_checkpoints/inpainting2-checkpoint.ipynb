{
 "metadata": {
  "name": ""
 },
 "nbformat": 3,
 "nbformat_minor": 0,
 "worksheets": [
  {
   "cells": [
    {
     "cell_type": "markdown",
     "metadata": {},
     "source": [
      "# Inpainting Example\n",
      "We'll load an image and draw some 'damage' on the image. The damaged pixels will have unknown value. We'll use a least 1-norm fit of the gradient at each unknown pixel (which involves only the pixels surrounding the unknown pixels) to reconstruct the unknown pixel values in an attempt to repair the image."
     ]
    },
    {
     "cell_type": "code",
     "collapsed": false,
     "input": [
      "from scipy import misc\n",
      "import matplotlib.pyplot as plt\n",
      "import numpy as np\n",
      "\n",
      "l = misc.lena()\n",
      "l = l.astype(np.float64, copy=False)\n",
      "l = l/np.max(l) #rescale pixels into [0,1]\n",
      "\n",
      "plt.imshow(l, cmap=plt.cm.gray)\n",
      "plt.show()"
     ],
     "language": "python",
     "metadata": {},
     "outputs": [],
     "prompt_number": 3
    },
    {
     "cell_type": "markdown",
     "metadata": {},
     "source": [
      "Draw a few lines to simulate damage to the image. We'll treat the affected pixels as having an unknown value. You can adjust the number of lines and their width."
     ]
    },
    {
     "cell_type": "code",
     "collapsed": false,
     "input": [
      "from PIL import Image, ImageDraw\n",
      "\n",
      "num_lines = 1\n",
      "width = 5\n",
      "imshape = l.shape\n",
      "\n",
      "def drawRandLine(draw,width):\n",
      "    x = [np.random.randint(0,im.size[0]) for i in range(2)]\n",
      "    y = [np.random.randint(0,im.size[1]) for i in range(2)]\n",
      "    xy = zip(x,y)\n",
      "    #fill gives the color\n",
      "    draw.line(xy,fill=255,width=width)\n",
      "\n",
      "im = Image.new(\"L\",imshape)\n",
      "draw = ImageDraw.Draw(im)\n",
      "for i in range(num_lines):\n",
      "    drawRandLine(draw,width)\n",
      "del draw\n",
      "im.show()"
     ],
     "language": "python",
     "metadata": {},
     "outputs": [],
     "prompt_number": 4
    },
    {
     "cell_type": "markdown",
     "metadata": {},
     "source": [
      "Overwrite corrupted pixels and display damaged image."
     ]
    },
    {
     "cell_type": "code",
     "collapsed": false,
     "input": [
      "err = np.asarray(im,dtype=np.bool)\n",
      "r = l.copy()\n",
      "r[err] = 1.0\n",
      "plt.imshow(r, cmap=plt.cm.gray)"
     ],
     "language": "python",
     "metadata": {},
     "outputs": [
      {
       "metadata": {},
       "output_type": "pyout",
       "prompt_number": 5,
       "text": [
        "<matplotlib.image.AxesImage at 0x10c03b390>"
       ]
      }
     ],
     "prompt_number": 5
    },
    {
     "cell_type": "markdown",
     "metadata": {},
     "source": [
      "Create a list and a dictionary to represent maps between pixel coordinates and their variable index."
     ]
    },
    {
     "cell_type": "code",
     "collapsed": false,
     "input": [
      "import itertools\n",
      "idx2pair = np.nonzero(err)\n",
      "idx2pair = zip(idx2pair[0].tolist(), idx2pair[1].tolist())\n",
      "pair2idx = dict(itertools.izip(idx2pair, xrange(len(idx2pair))))\n",
      "idx2pair = np.array(idx2pair) #convert back to numpy array"
     ],
     "language": "python",
     "metadata": {},
     "outputs": [],
     "prompt_number": 6
    },
    {
     "cell_type": "markdown",
     "metadata": {},
     "source": [
      "Create sparse matrices $G_x$ and $G_y$ and arrays $b_x$, $b_y$ such that\n",
      "the x components of the pixel gradients are given by $G_x x + b_x$ and the y components\n",
      "of the pixel gradients are given by $G_y x + b_y$."
     ]
    },
    {
     "cell_type": "code",
     "collapsed": false,
     "input": [
      "import scipy.sparse as sp\n",
      "from cvxopt import spmatrix\n",
      "\n",
      "def involvedpairs(pairs):\n",
      "    ''' Get all the pixel pairs whose gradient involves an unknown pixel.\n",
      "        Input should be a set or dictionary of pixel pair tuples\n",
      "    '''\n",
      "    for pair in pairs: #loop through unknown pixels\n",
      "        yield pair \n",
      "        \n",
      "        left = (pair[0],pair[1]-1)\n",
      "        if left[1] >= 0 and left not in pairs: #if 'left' in picture, and not already unknown\n",
      "            yield left\n",
      "        \n",
      "        top = (pair[0]-1,pair[1])\n",
      "        topright = (pair[0]-1,pair[1]+1)\n",
      "        #if not on top boundary, top is fixed, and top not already touched by upper right pixel\n",
      "        if pair[0] > 0 and top not in pairs and topright not in pairs:\n",
      "            yield top\n",
      "\n",
      "def formCOO(pair2idx, img):\n",
      "    m, n = img.shape  \n",
      "    Is, Js, Vs, bs = [[],[]], [[],[]], [[],[]], [[],[]]\n",
      "    row = 0\n",
      "    \n",
      "    for pixel1 in involvedpairs(pair2idx):\n",
      "        bottom = (pixel1[0]+1,pixel1[1])\n",
      "        right= (pixel1[0],pixel1[1]+1)\n",
      "        \n",
      "        for i, pixel2 in enumerate([bottom, right]):   \n",
      "            \n",
      "            if pixel2[0] >= m or pixel2[1] >= n:\n",
      "                bs[i].append(0)\n",
      "                continue\n",
      "            \n",
      "            b = 0\n",
      "            for j, pix in enumerate([pixel2, pixel1]):\n",
      "                if pix in pair2idx: #unknown pixel\n",
      "                    Is[i].append(row)\n",
      "                    Js[i].append(pair2idx[pix])\n",
      "                    Vs[i].append(pow(-1,j))\n",
      "                else: #known pixel\n",
      "                    b += pow(-1,j)*img[pix]\n",
      "            bs[i].append(b)\n",
      "            \n",
      "        row += 1\n",
      "    \n",
      "    '''\n",
      "        Form Gx and Gy such that the x-component of the gradient is Gx*x + bx,\n",
      "        where x is an array representing the unknown pixel values.\n",
      "    '''\n",
      "    m = len(bs[0])\n",
      "    n = len(pair2idx)\n",
      "    \n",
      "    Gx = spmatrix(Vs[1], Is[1], Js[1],(m,n))\n",
      "    Gy = spmatrix(Vs[0], Is[0], Js[0],(m,n))\n",
      "\n",
      "    bx = np.array(bs[1])\n",
      "    by = np.array(bs[0])\n",
      "    \n",
      "    return Gx, Gy, bx, by\n",
      "    \n",
      "    \n",
      "Gx, Gy, bx, by = formCOO(pair2idx, r)"
     ],
     "language": "python",
     "metadata": {},
     "outputs": [],
     "prompt_number": 7
    },
    {
     "cell_type": "code",
     "collapsed": false,
     "input": [
      "Gx"
     ],
     "language": "python",
     "metadata": {},
     "outputs": [
      {
       "metadata": {},
       "output_type": "pyout",
       "prompt_number": 8,
       "text": [
        "<1445x1222 sparse matrix, tc='d', nnz=2444>"
       ]
      }
     ],
     "prompt_number": 8
    },
    {
     "cell_type": "markdown",
     "metadata": {},
     "source": [
      "# 1-norm formulation\n",
      "This is a problem that we can solve and parse easily. I minimize the absolute value of the gradient components (or the sum of the 1-norms of the gradients of each pixel). This minimizes the total variation of the resulting image. The variable $x$ contains the pixel magnitudes for the unknown pixels. After the solve, we map these back to the pixel coordinates to repair the image."
     ]
    },
    {
     "cell_type": "code",
     "collapsed": false,
     "input": [
      "%%time\n",
      "import cvxpy as cp\n",
      "\n",
      "m, n = Gx.size\n",
      "\n",
      "x = cp.Variable(n)\n",
      "objective = cp.Minimize(cp.norm(Gx*x + bx,1) + cp.norm(Gy*x + by,1) )\n",
      "p = cp.Problem(objective)\n",
      "\n",
      "result = p.solve(solver=cp.ECOS)"
     ],
     "language": "python",
     "metadata": {},
     "outputs": [
      {
       "output_type": "stream",
       "stream": "stdout",
       "text": [
        "CPU times: user 372 ms, sys: 34.7 ms, total: 406 ms\n",
        "Wall time: 405 ms\n"
       ]
      }
     ],
     "prompt_number": 9
    },
    {
     "cell_type": "markdown",
     "metadata": {},
     "source": [
      "# 2-norm formulation\n",
      "This is the problem that I would actually like to solve. This is minimizing the sum of the 2-norms of the gradients at each pixel. This involves many small second order cones, which I have to accumulate with a for loop or list comprehension. Hopefully, a 'norms' function will speed this up.\n",
      "\n",
      "Note that the code below may crash or take very long to run for anything except very small problems."
     ]
    },
    {
     "cell_type": "code",
     "collapsed": false,
     "input": [
      "%%time\n",
      "import cvxpy as cp\n",
      "m, n = Gx.size\n",
      "x = cp.Variable(n)\n",
      "z = cp.vstack((Gx*x + bx).T, (Gy*x + by).T)\n",
      "\n",
      "objective = cp.Minimize(sum([cp.norm(z[:,i]) for i in range(m)]))\n",
      "p = cp.Problem(objective)\n",
      "\n",
      "result = p.solve(solver=cp.ECOS, verbose=True)"
     ],
     "language": "python",
     "metadata": {},
     "outputs": [],
     "prompt_number": "*"
    },
    {
     "cell_type": "markdown",
     "metadata": {},
     "source": [
      "Insert the pixel values resulting from solving the convex problem and display the repaired image."
     ]
    },
    {
     "cell_type": "code",
     "collapsed": false,
     "input": [
      "x = np.array(x.value).flatten()\n",
      "q = r.copy()\n",
      "q[idx2pair[:,0],idx2pair[:,1]] = x\n",
      "plt.imshow(q, cmap=plt.cm.gray)"
     ],
     "language": "python",
     "metadata": {},
     "outputs": [
      {
       "metadata": {},
       "output_type": "pyout",
       "prompt_number": 11,
       "text": [
        "<matplotlib.image.AxesImage at 0x1105ea450>"
       ]
      }
     ],
     "prompt_number": 11
    },
    {
     "cell_type": "markdown",
     "metadata": {},
     "source": [
      "# Thoughts\n",
      "- verbose output for parsing and solving? it'd be great to see progress\n",
      "- for the 1-norm version, the line `objective = cp.Minimize(cp.norm(Gx*x + bx,1) + cp.norm(Gy*x + by,1) )` takes a while for large problems (like 10 lines of width 10)\n",
      "- for the 2-norm version, the bottleneck seems to be the line `objective = cp.Minimize(sum([cp.norm(z[:,i]) for i in range(m)]))` (1m35s for a problem with 5 lines of width 5)\n",
      "- for the 2-norm version, the line `z = cp.vstack((Gx*x + bx).T, (Gy*x + by).T)` takes up time (13 seconds for 5 lines of width 5). It's not the bottleneck, but it'd be great to get this to be faster, if possible."
     ]
    },
    {
     "cell_type": "code",
     "collapsed": false,
     "input": [],
     "language": "python",
     "metadata": {},
     "outputs": [],
     "prompt_number": 11
    }
   ],
   "metadata": {}
  }
 ]
}