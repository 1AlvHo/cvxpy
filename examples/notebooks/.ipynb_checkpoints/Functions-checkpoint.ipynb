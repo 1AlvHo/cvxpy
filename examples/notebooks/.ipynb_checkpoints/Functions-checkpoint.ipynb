{
 "metadata": {
  "name": ""
 },
 "nbformat": 3,
 "nbformat_minor": 0,
 "worksheets": [
  {
   "cells": [
    {
     "cell_type": "heading",
     "level": 1,
     "metadata": {},
     "source": [
      "Functions"
     ]
    },
    {
     "cell_type": "markdown",
     "metadata": {},
     "source": [
      "This section of the tutorial describes the functions that can be applied to CVXPY expressions. CVXPY uses the function information in this section and the [DCP rules](dcp-rules) to mark expressions with a sign and curvature."
     ]
    },
    {
     "cell_type": "heading",
     "level": 2,
     "metadata": {},
     "source": [
      "Operators"
     ]
    },
    {
     "cell_type": "markdown",
     "metadata": {},
     "source": [
      "The infix operators `+, -, *, /` are all affine functions. As explained in [Infix Operators](/dcp/index.html#infix-operators), `expr1*expr2` is allowed only when one of the expressions is constant. `expr1/expr2` is allowed only when `expr2` is a scalar constant."
     ]
    },
    {
     "cell_type": "heading",
     "level": 2,
     "metadata": {},
     "source": [
      "Scalar Functions"
     ]
    },
    {
     "cell_type": "heading",
     "level": 2,
     "metadata": {},
     "source": [
      "Elementwise Functions"
     ]
    },
    {
     "cell_type": "heading",
     "level": 2,
     "metadata": {},
     "source": [
      "Vector Functions"
     ]
    }
   ],
   "metadata": {}
  }
 ]
}